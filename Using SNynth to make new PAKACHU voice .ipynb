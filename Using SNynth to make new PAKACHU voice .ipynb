{
 "cells": [
  {
   "cell_type": "markdown",
   "metadata": {},
   "source": [
    "# Setup Environment"
   ]
  },
  {
   "cell_type": "code",
   "execution_count": null,
   "metadata": {},
   "outputs": [],
   "source": [
    "# Install magenta\n",
    "print('Installing Magenta...\\n')\n",
    "!pip install -qU magenta\n",
    "print('Installing ffmpeg...\\n')\n",
    "!echo \"Yes\" | apt-get install ffmpeg > /dev/null\n",
    "\n",
    "\n",
    "print('Downloading Pretrained Models...\\n')\n",
    "# Copy checkpoints from google cloud\n",
    "# Copying 1GB, takes a minute\n",
    "print('Getting Instruments Model...\\n')\n",
    "!gsutil -q -m cp -R gs://download.magenta.tensorflow.org/models/nsynth/wavenet-ckpt.tar /content/\n",
    "print('Getting Voices Model...\\n')\n",
    "!gsutil -q -m cp -R gs://download.magenta.tensorflow.org/models/nsynth/wavenet-voice-ckpt.tar.gz /content/\n",
    "!cd /content/\n",
    "!tar -xvf wavenet-ckpt.tar > /dev/null\n",
    "!tar -xvf wavenet-voice-ckpt.tar.gz > /dev/null\n",
    "\n",
    "\n",
    "print('Importing Modules...\\n')\n",
    "# Load modules and helper functions\n",
    "import os\n",
    "import numpy as np\n",
    "import matplotlib.pyplot as plt\n",
    "from IPython.display import Audio\n",
    "%matplotlib inline\n",
    "\n",
    "from google.colab import files\n",
    "from magenta.models.nsynth import utils\n",
    "from magenta.models.nsynth.wavenet import fastgen\n",
    "from magenta.music.notebook_utils import colab_play as play\n",
    "\n",
    "def upload(sample_length, sr):\n",
    "  '''Upload a .wav file.'''\n",
    "  filemap = files.upload()\n",
    "  file_list, audio_list = [], []\n",
    "  for key, value in filemap.iteritems():\n",
    "    fname = os.path.join('/content/', key)\n",
    "    with open(fname, 'w') as f:\n",
    "      f.write(value)\n",
    "    audio = utils.load_audio(fname, sample_length=sample_length, sr=sr)\n",
    "    file_list.append(fname)\n",
    "    audio_list.append(audio)\n",
    "  return file_list, audio_list\n",
    "\n",
    "download = files.download\n",
    "\n",
    "get_name = lambda f: os.path.splitext(os.path.basename(f))[0]\n",
    "\n",
    "print('Sucess!! Environment is now setup.')\n"
   ]
  },
  {
   "cell_type": "markdown",
   "metadata": {},
   "source": [
    "# Choose a Model"
   ]
  },
  {
   "cell_type": "code",
   "execution_count": null,
   "metadata": {},
   "outputs": [],
   "source": [
    "Model = \"Voices\" #@param [\"Instruments\", \"Voices\"] {type:\"string\"}\n",
    "ckpts = {'Instruments': '/content/wavenet-ckpt/model.ckpt-200000',\n",
    "         'Voices': '/content/wavenet-voice-ckpt/model.ckpt-200000'}\n",
    "\n",
    "ckpt_path = ckpts[Model]\n",
    "print('Using model pretrained on %s.' % Model)"
   ]
  },
  {
   "cell_type": "markdown",
   "metadata": {},
   "source": [
    "# Set Sound Length (in Seconds)"
   ]
  },
  {
   "cell_type": "code",
   "execution_count": null,
   "metadata": {},
   "outputs": [],
   "source": [
    "Length = 2 #@param {type:\"number\"}\n",
    "SR = 16000\n",
    "SAMPLE_LENGTH = int(SR * Length)"
   ]
  },
  {
   "cell_type": "markdown",
   "metadata": {},
   "source": [
    "# Upload sound files (.wav, .mp3)"
   ]
  },
  {
   "cell_type": "code",
   "execution_count": null,
   "metadata": {},
   "outputs": [],
   "source": [
    "try:\n",
    "  file_list, audio_list = upload(sample_length=SAMPLE_LENGTH, sr=SR)\n",
    "  names = [get_name(f) for f in file_list]\n",
    "  # Pad and peak normalize\n",
    "  for i in range(len(audio_list)):\n",
    "    audio_list[i] = audio_list[i] / np.abs(audio_list[i]).max()\n",
    "\n",
    "    if len(audio_list[i]) < SAMPLE_LENGTH:\n",
    "      padding = SAMPLE_LENGTH - len(audio_list[i])\n",
    "      audio_list[i] = np.pad(audio_list[i], (0, padding), 'constant')\n",
    "\n",
    "  audio_list = np.array(audio_list)\n",
    "except Exception as e:\n",
    "  print('Upload Cancelled')\n",
    "  print(e)"
   ]
  },
  {
   "cell_type": "markdown",
   "metadata": {},
   "source": [
    "# Encode"
   ]
  },
  {
   "cell_type": "markdown",
   "metadata": {},
   "source": [
    "Generate Encodings"
   ]
  },
  {
   "cell_type": "code",
   "execution_count": null,
   "metadata": {},
   "outputs": [],
   "source": [
    "audio = np.array(audio_list)\n",
    "z = fastgen.encode(audio, ckpt_path, SAMPLE_LENGTH)\n",
    "print('Encoded %d files' % z.shape[0])\n",
    "\n",
    "\n",
    "# Start with reconstructions\n",
    "z_list = [z_ for z_ in z]\n",
    "name_list = ['recon_' + name_ for name_ in names]\n",
    "\n",
    "# Add all the mean interpolations\n",
    "n = len(names)\n",
    "for i in range(n - 1):\n",
    "  for j in range(i + 1, n):\n",
    "    new_z = (z[i] + z[j]) / 2.0\n",
    "    new_name = 'interp_' + names[i] + '_X_'+ names[j]\n",
    "    z_list.append(new_z)\n",
    "    name_list.append(new_name)\n",
    "\n",
    "print(\"%d total: %d reconstructions and %d interpolations\" % (len(name_list), n, len(name_list) - n))"
   ]
  },
  {
   "cell_type": "markdown",
   "metadata": {},
   "source": [
    "Visualize Audio and Encoding"
   ]
  },
  {
   "cell_type": "code",
   "execution_count": null,
   "metadata": {},
   "outputs": [],
   "source": [
    "SoundFile = 0 #@param {type:\"slider\", min:0, max:10, step:1}\n",
    "file_number = SoundFile\n",
    "\n",
    "try:\n",
    "  print(names[file_number])\n",
    "  play(audio_list[file_number], sample_rate=SR)\n",
    "  # fig, axs = plt.subplots(2, 1, figsize=(12, 10))\n",
    "  plt.figure()\n",
    "  plt.plot(audio_list[file_number])\n",
    "  plt.title('Audio Signal')\n",
    "\n",
    "  plt.figure()\n",
    "  plt.plot(z_list[file_number])\n",
    "  plt.title('NSynth Encoding')\n",
    "except Exception as e:\n",
    "  print e"
   ]
  },
  {
   "cell_type": "markdown",
   "metadata": {},
   "source": [
    "# Synthesize"
   ]
  },
  {
   "cell_type": "markdown",
   "metadata": {},
   "source": [
    "Synthesize Interpolations"
   ]
  },
  {
   "cell_type": "code",
   "execution_count": null,
   "metadata": {},
   "outputs": [],
   "source": [
    "print('Total Iterations to Complete: %d\\n' % SAMPLE_LENGTH)\n",
    "\n",
    "encodings = np.array(z_list)\n",
    "save_paths = ['/content/' + name + '.wav' for name in name_list]\n",
    "fastgen.synthesize(encodings,\n",
    "                   save_paths=save_paths,\n",
    "                   checkpoint_path=ckpt_path,\n",
    "                   samples_per_save=int(SAMPLE_LENGTH / 10))"
   ]
  },
  {
   "cell_type": "markdown",
   "metadata": {},
   "source": [
    "Download Interpolations"
   ]
  },
  {
   "cell_type": "code",
   "execution_count": null,
   "metadata": {},
   "outputs": [],
   "source": [
    "for fname in save_paths:\n",
    "  print('Downloading: %s' % fname.split('/')[-1])\n",
    "  download(fname)"
   ]
  },
  {
   "cell_type": "markdown",
   "metadata": {},
   "source": [
    "Listen to the outputs"
   ]
  },
  {
   "cell_type": "code",
   "execution_count": null,
   "metadata": {},
   "outputs": [],
   "source": [
    "print(\"Originals:\\n\")\n",
    "for fname in file_list:\n",
    "  synth_audio = utils.load_audio(fname,\n",
    "                                 sample_length=SAMPLE_LENGTH,\n",
    "                                 sr=SR)\n",
    "  print(get_name(fname))\n",
    "  play(synth_audio, sample_rate=SR)\n",
    "\n",
    "for i, fname in enumerate(save_paths):\n",
    "  if i == 0:\n",
    "    print(\"Reconstructions:\\n\")\n",
    "  if i == len(file_list):\n",
    "    print(\"Interpolations:\\n\")\n",
    "  synth_audio = utils.load_audio(fname,\n",
    "                                 sample_length=SAMPLE_LENGTH,\n",
    "                                 sr=SR)\n",
    "  print(get_name(fname))\n",
    "  play(synth_audio, sample_rate=SR)"
   ]
  }
 ],
 "metadata": {
  "kernelspec": {
   "display_name": "Python 3",
   "language": "python",
   "name": "python3"
  },
  "language_info": {
   "codemirror_mode": {
    "name": "ipython",
    "version": 3
   },
   "file_extension": ".py",
   "mimetype": "text/x-python",
   "name": "python",
   "nbconvert_exporter": "python",
   "pygments_lexer": "ipython3",
   "version": "3.6.5"
  }
 },
 "nbformat": 4,
 "nbformat_minor": 2
}
